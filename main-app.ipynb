{
 "cells": [
  {
   "cell_type": "code",
   "execution_count": 494,
   "metadata": {},
   "outputs": [],
   "source": [
    "import random as rd\n",
    "import time\n",
    "\n",
    "from functools import lru_cache\n",
    "from typing import Dict, List, Tuple\n",
    "import numpy as np\n",
    "import matplotlib.pyplot as plt\n",
    "from matplotlib.lines import Line2D\n"
   ]
  },
  {
   "cell_type": "markdown",
   "metadata": {},
   "source": [
    "**Reading data**"
   ]
  },
  {
   "cell_type": "code",
   "execution_count": 495,
   "metadata": {},
   "outputs": [],
   "source": [
    "def read_data(path):\n",
    "    global instance\n",
    "\n",
    "    try:\n",
    "\n",
    "        with open(path, 'r') as f:\n",
    "            instance = [[int(num) for num in line.split('\\t')] for line in f]\n",
    "        print(\"\\nYour matrix : \\n\")\n",
    "        for i in instance:\n",
    "            print(\", \".join([str(l).rjust(4) for l in i]))\n",
    "    except IOError: \n",
    "        instance=\"The mentioned file was not found !\"\n",
    "        print(instance)\n",
    "        "
   ]
  },
  {
   "cell_type": "markdown",
   "metadata": {},
   "source": [
    "**Dynamic programming**"
   ]
  },
  {
   "cell_type": "code",
   "execution_count": 496,
   "metadata": {},
   "outputs": [],
   "source": [
    "def solve_tsp_dynamic_programming(first_city) -> Tuple[List, int]:\n",
    "\n",
    "    '''\n",
    "    Solve TSP to optimality with dynamic programming.\n",
    "\n",
    "    Parameters\n",
    "    ----------\n",
    "\n",
    "    global instance\n",
    "        Distance matrix of shape (n x n) with the (i, j) entry indicating the\n",
    "        distance from node i to j.\n",
    "\n",
    "    first_city\n",
    "        Used to define the source city where the problem begins. \n",
    "\n",
    "    Returns\n",
    "    -------\n",
    "\n",
    "    solution\n",
    "        A permutation of nodes from 1 to n that produces the least total\n",
    "        distance.\n",
    "\n",
    "    best_distance\n",
    "        The total distance the optimal permutation produces.\n",
    "\n",
    "    Notes\n",
    "    -----\n",
    "\n",
    "    Algorithm: cost of the optimal path\n",
    "    ~~~~~~~~~~~~~~~~~~~~~~~~~~~~~~~~~~~\n",
    "    Consider a TSP instance with 3 nodes: {0, 1, 2}. Let dist(0, {1, 2}) be the\n",
    "    distance from 0, visiting all nodes in {1, 2} and going back to 0. This can\n",
    "    be computed recursively as:\n",
    "        \n",
    "        dist(ni, N) =   min   ( c_{ni, nj} + dist(nj, N - {nj}) )\n",
    "                      nj in N\n",
    "    and\n",
    "        dist(ni, {}) = c_{ni, 0}\n",
    "\n",
    "    With starting point as dist(0, {1, 2, ..., tsp_size}). The notation\n",
    "    N - {nj} is the difference operator, meaning set N without node nj.\n",
    "\n",
    "    Algorithm: compute the optimal path\n",
    "    ~~~~~~~~~~~~~~~~~~~~~~~~~~~~~~~~~~~\n",
    "    The previous process returns the distance of the optimal path. To find the\n",
    "    actual path, we need to store in a memory the following key/values:\n",
    "        memo[(ni, N)] = nj_min\n",
    "\n",
    "    With nj_min the node in N that provided the smallest value of dist(ni, N).\n",
    "    Then, the process goes backwards starting from memo[(0, {1, 2, ..., tsp_size})].\n",
    "    In the previous example, suppose memo[(0, {1, 2})] = 1.\n",
    "    Then, look for memo[(1, {2})] = 2.\n",
    "    Then, since the next step would be memo[2, {}], stop there. \n",
    "    The optimal path would be 0 -> 1 -> 2 -> 0.\n",
    "\n",
    "    '''\n",
    "    # Get initial set {0, 1, 2, ..., tsp_size} as a frozenset because since\n",
    "    # @lru_cache requires a hashable type\n",
    "    N = frozenset(range(0, len(instance)))\n",
    "    N = N.difference({first_city-1})\n",
    "    memo: Dict[Tuple, int] = {}\n",
    "\n",
    "    # Step 1: get minimum distance\n",
    "    @lru_cache(maxsize=len(instance)**2)\n",
    "    def dist(ni, N: frozenset):\n",
    "        if not N:\n",
    "            return instance[ni][first_city-1]\n",
    "\n",
    "        # Store the costs in the form (nj, dist(nj, N))    \n",
    "        costs = [\n",
    "            (nj, instance[ni][nj] + dist(nj, N.difference({nj})))\n",
    "            for nj in N\n",
    "        ]\n",
    "        nmin, min_cost = min(costs, key=lambda x: x[1])\n",
    "        memo[(ni, N)] = nmin\n",
    "        return min_cost\n",
    "\n",
    "    best_distance = dist(first_city-1, N)\n",
    "\n",
    "    # Step 2: get path with the minimum distance\n",
    "    ni = first_city-1\n",
    "    solution = [first_city]\n",
    "    while N:\n",
    "        ni = memo[(ni, N)]\n",
    "        solution.append(ni+1)\n",
    "        N = N.difference({ni})\n",
    "    solution.append(first_city)\n",
    "    return solution, best_distance\n",
    "    "
   ]
  },
  {
   "cell_type": "markdown",
   "metadata": {},
   "source": [
    "**Real value**"
   ]
  },
  {
   "cell_type": "code",
   "execution_count": 497,
   "metadata": {},
   "outputs": [],
   "source": [
    "def f(x):\n",
    "    total_cost = 0\n",
    "    for c in range(1,len(x)):\n",
    "        total_cost += instance[x[c - 1]][x[c]]\n",
    "    return total_cost\n",
    "    "
   ]
  },
  {
   "cell_type": "markdown",
   "metadata": {},
   "source": [
    "**Neighborhood structure**"
   ]
  },
  {
   "cell_type": "code",
   "execution_count": 498,
   "metadata": {},
   "outputs": [],
   "source": [
    "def NS_swapping(x, lb, ub): #lb>0 \n",
    "    bound = len(x)\n",
    "    xc = None    \n",
    "    if (lb < bound and ub < bound):\n",
    "        xc = x.copy()\n",
    "        xc[lb], xc[ub] = xc[ub], xc[lb]\n",
    "    return xc\n",
    "\n",
    "def NS_insertion_before(x, lb, ub):  #lb>0 \n",
    "    bound = len(x)\n",
    "    xc = None\n",
    "    if (lb < bound and ub < bound):\n",
    "        xc = x.copy()\n",
    "        xc.insert(lb, x[ub]) \n",
    "        xc.pop(ub+1)\n",
    "    return xc\n",
    "\n",
    "\n",
    "def NS_two_opt(x, lb, ub):\n",
    "    bound = len(x)\n",
    "    x1=[]\n",
    "    if lb < ub and (0 < lb < bound-1 and 0 < ub < bound-1) : \n",
    "        x1=x[:lb]\n",
    "        x1.extend(reversed(x[lb:ub+1]))\n",
    "        x1.extend(x[ub+1:])\n",
    "    return x1\n",
    "    "
   ]
  },
  {
   "cell_type": "code",
   "execution_count": 499,
   "metadata": {},
   "outputs": [],
   "source": [
    "def initialization(first_city):\n",
    "    bound = len(instance)\n",
    "    x=[first_city]\n",
    "    sol=rd.sample(range(0, bound), bound)\n",
    "    for i in range(0,len(sol)-1):\n",
    "        if sol[i] == first_city:\n",
    "            sol.pop(i)\n",
    "    x=x+sol+x\n",
    "    \n",
    "    return x\n",
    "    "
   ]
  },
  {
   "cell_type": "markdown",
   "metadata": {},
   "source": [
    "**Shaking**"
   ]
  },
  {
   "cell_type": "code",
   "execution_count": 500,
   "metadata": {},
   "outputs": [],
   "source": [
    "def neighbrehood(x, k):\n",
    "    bound = len(x)\n",
    "    N=[]\n",
    "    if(k==3):\n",
    "        for i in range(1,bound-2):\n",
    "            for j in range(i+1,bound-1):\n",
    "                N.append(NS_swapping(x,i,j))\n",
    "    elif(k==2):\n",
    "        for i in range(1,bound-2):\n",
    "            for j in range(i+1,bound-1):\n",
    "                N.append(NS_insertion_before(x,i,j))\n",
    "    elif(k==1):\n",
    "        for i in range(1,bound-2):\n",
    "            for j in range(i+1,bound-1):\n",
    "                N.append(NS_two_opt(x,i,j))\n",
    "    return N\n",
    "\n",
    "global voisins\n"
   ]
  },
  {
   "cell_type": "code",
   "execution_count": 501,
   "metadata": {},
   "outputs": [],
   "source": [
    "def shake(x, k):\n",
    "    N=neighbrehood(x,k)\n",
    "    xp=rd.choice(N)\n",
    "    return xp\n",
    "    "
   ]
  },
  {
   "cell_type": "markdown",
   "metadata": {},
   "source": [
    "**Changing neighberhood**"
   ]
  },
  {
   "cell_type": "code",
   "execution_count": 502,
   "metadata": {},
   "outputs": [],
   "source": [
    "def change_neighborhood(x, xp, k):\n",
    "    if f(xp) < f(x):\n",
    "        x = xp\n",
    "    else:\n",
    "        k += 1\n",
    "    return x,k\n",
    "    "
   ]
  },
  {
   "cell_type": "markdown",
   "metadata": {},
   "source": [
    "**Improuve intiale solution**"
   ]
  },
  {
   "cell_type": "code",
   "execution_count": 503,
   "metadata": {},
   "outputs": [],
   "source": [
    "k_max = 3\n",
    "def RVNS(x, k_max, t = 5):\n",
    "    start_time = time.time() \n",
    "    while time.time() - start_time < t*60:\n",
    "        k=1\n",
    "        while k <= k_max:\n",
    "            xp = shake(x,k)  \n",
    "            x, k = change_neighborhood(x, xp, k) \n",
    "    return x\n",
    "    "
   ]
  },
  {
   "cell_type": "markdown",
   "metadata": {},
   "source": [
    "**Local serach VND**"
   ]
  },
  {
   "cell_type": "code",
   "execution_count": 504,
   "metadata": {},
   "outputs": [],
   "source": [
    "# first improvement : \n",
    "def first_improvement(x, l): \n",
    "    N=neighbrehood(x,l)\n",
    "    for i in range(0,len(N)):\n",
    "        if f(N[i])< f(x):\n",
    "            x=N[i]\n",
    "            break\n",
    "    return x\n",
    "    "
   ]
  },
  {
   "cell_type": "code",
   "execution_count": 505,
   "metadata": {},
   "outputs": [],
   "source": [
    "l_max=2\n",
    "def VND(x, l_max):\n",
    "    l = 1\n",
    "    while l <= l_max:\n",
    "        xp = shake(x, l) \n",
    "        xp = first_improvement(x, l) \n",
    "        x,l = change_neighborhood(x, xp, l)\n",
    "    return x\n",
    "    "
   ]
  },
  {
   "cell_type": "markdown",
   "metadata": {},
   "source": [
    "**GVNS**"
   ]
  },
  {
   "cell_type": "code",
   "execution_count": 506,
   "metadata": {},
   "outputs": [],
   "source": [
    "def GVNS(x, t=5, k_max=3, l_max=2):\n",
    "    start_time = time.time() \n",
    "    x=RVNS(x,k_max,0.2)\n",
    "    while time.time() - start_time < t*60:\n",
    "        k=1\n",
    "        while k <= k_max:\n",
    "            x1 = shake(x,k)  \n",
    "            x2 = VND(x1, l_max)\n",
    "            x, k = change_neighborhood(x, x2, k)\n",
    "    return x,f(x)\n",
    "    "
   ]
  },
  {
   "source": [
    "**Get random coordinates**"
   ],
   "cell_type": "markdown",
   "metadata": {}
  },
  {
   "cell_type": "code",
   "execution_count": 507,
   "metadata": {},
   "outputs": [],
   "source": [
    "\n",
    "def randomCoordsFromMatrix(matrix)->np.ndarray:\n",
    "    lenght=len(matrix)\n",
    "    coords=np.ndarray(shape=(lenght,2), dtype=int)\n",
    "    for i in range(lenght):\n",
    "        for j in range(2):\n",
    "            coords[i,j]=rd.randint(10,50)\n",
    "    return coords\n"
   ]
  },
  {
   "cell_type": "markdown",
   "metadata": {},
   "source": [
    "**Target plot**"
   ]
  },
  {
   "cell_type": "code",
   "execution_count": 508,
   "metadata": {},
   "outputs": [],
   "source": [
    "\n",
    "def targetPlot(matrix, minDistance:int, permutation: List[int]):\n",
    "    lenght=len(matrix)\n",
    "    coords=randomCoordsFromMatrix(matrix)\n",
    "    print(f\"Generated coordinates of cities : \\n\\n{coords} \\n\\n\")\n",
    "    cmap = plt.get_cmap('Set1')\n",
    "    colors = [cmap(i) for i in np.linspace(0, 1, lenght)]\n",
    "\n",
    "    # Figure build & display markers\n",
    "    f=plt.figure(figsize=(lenght+3, lenght+3))\n",
    "    ax = f.add_subplot(111)\n",
    "    plt.scatter(coords[:, 0], coords[:, 1], marker='o', c=colors, s=50, edgecolor='None')\n",
    "    \n",
    "    # Legend build\n",
    "    markers = []\n",
    "    labels = [str(n+1) for n in range(lenght)]\n",
    "    for i in range(lenght):\n",
    "        markers.append(Line2D([0], [0], linestyle='None', marker=\"o\", markersize=10, markeredgecolor=\"none\", markerfacecolor=colors[i]))\n",
    "    lgd = plt.legend(markers, labels, numpoints=1, bbox_to_anchor=(1.17, 0.5))\n",
    "\n",
    "    # Plot descriptive text\n",
    "    textstr = \"Nombre de villes : %d\\nDistance Min: %d\\nVille de départ: %d\" % (lenght, minDistance, permutation[0])\n",
    "    props = dict(boxstyle='round', facecolor='wheat', alpha=0.5)\n",
    "    plt.text(0.05, 0.98, textstr,transform = ax.transAxes, fontsize=14,verticalalignment='top', bbox=props)\n",
    "\n",
    "    # Trace the target\n",
    "    start_node = permutation[0]\n",
    "    \n",
    "    for i in range(lenght):\n",
    "        start_pos = coords[start_node-1]\n",
    "        next_node = permutation[i+1] \n",
    "        end_pos = coords[next_node-1]\n",
    "        ax.annotate(\"\",\n",
    "                xy=start_pos, xycoords='data',\n",
    "                xytext=end_pos, textcoords='data',\n",
    "                arrowprops=dict(arrowstyle=\"<-\",\n",
    "                                connectionstyle=\"arc3\"))\n",
    "        start_node = next_node\n",
    "    plt.tight_layout()\n",
    "    plt.axis('equal')\n",
    "    plt.show()\n"
   ]
  },
  {
   "cell_type": "markdown",
   "metadata": {},
   "source": [
    "**Main program**"
   ]
  },
  {
   "cell_type": "code",
   "execution_count": 509,
   "metadata": {},
   "outputs": [
    {
     "output_type": "stream",
     "name": "stdout",
     "text": [
      "\n",
      "Your matrix : \n",
      "\n",
      "   0,   12,   10,   19,    8\n",
      "  12,    0,    3,    7,    2\n",
      "  10,    3,    0,    6,   20\n",
      "  19,    7,    6,    0,    4\n",
      "   8,    2,   20,    4,    0\n",
      "\n",
      "TSP solver\n",
      "\n",
      "******* Menu *******\n",
      "Please choose one of these methods :\n",
      "(1) Solve with dynamic programming \n",
      "(2) Solve with GVNS\n",
      "\n",
      "\n",
      "OPTIMAL POLICY : [3, 1, 5, 4, 2, 3]\n",
      "OPTIMAL VALUE : 32\n",
      "\n",
      "\n",
      "\n",
      "Generated coordinates of cities : \n",
      "\n",
      "[[32 33]\n",
      " [23 32]\n",
      " [38 21]\n",
      " [16 21]\n",
      " [10 32]] \n",
      "\n",
      "\n"
     ]
    },
    {
     "output_type": "display_data",
     "data": {
      "text/plain": "<Figure size 576x576 with 1 Axes>",
      "image/svg+xml": "<?xml version=\"1.0\" encoding=\"utf-8\" standalone=\"no\"?>\r\n<!DOCTYPE svg PUBLIC \"-//W3C//DTD SVG 1.1//EN\"\r\n  \"http://www.w3.org/Graphics/SVG/1.1/DTD/svg11.dtd\">\r\n<!-- Created with matplotlib (https://matplotlib.org/) -->\r\n<svg height=\"568.478125pt\" version=\"1.1\" viewBox=\"0 0 571.72654 568.478125\" width=\"571.72654pt\" xmlns=\"http://www.w3.org/2000/svg\" xmlns:xlink=\"http://www.w3.org/1999/xlink\">\r\n <defs>\r\n  <style type=\"text/css\">\r\n*{stroke-linecap:butt;stroke-linejoin:round;}\r\n  </style>\r\n </defs>\r\n <g id=\"figure_1\">\r\n  <g id=\"patch_1\">\r\n   <path d=\"M 0 568.478125 \r\nL 571.72654 568.478125 \r\nL 571.72654 0 \r\nL 0 0 \r\nz\r\n\" style=\"fill:none;\"/>\r\n  </g>\r\n  <g id=\"axes_1\">\r\n   <g id=\"patch_2\">\r\n    <path d=\"M 26.925 544.6 \r\nL 490.687 544.6 \r\nL 490.687 7.2 \r\nL 26.925 7.2 \r\nz\r\n\" style=\"fill:#ffffff;\"/>\r\n   </g>\r\n   <g id=\"PathCollection_1\">\r\n    <defs>\r\n     <path d=\"M 0 3.535534 \r\nC 0.937635 3.535534 1.836992 3.163008 2.5 2.5 \r\nC 3.163008 1.836992 3.535534 0.937635 3.535534 0 \r\nC 3.535534 -0.937635 3.163008 -1.836992 2.5 -2.5 \r\nC 1.836992 -3.163008 0.937635 -3.535534 0 -3.535534 \r\nC -0.937635 -3.535534 -1.836992 -3.163008 -2.5 -2.5 \r\nC -3.163008 -1.836992 -3.535534 -0.937635 -3.535534 0 \r\nC -3.535534 0.937635 -3.163008 1.836992 -2.5 2.5 \r\nC -1.836992 3.163008 -0.937635 3.535534 0 3.535534 \r\nz\r\n\" id=\"C0_0_63fe725974\"/>\r\n    </defs>\r\n    <g clip-path=\"url(#p79424c348e)\">\r\n     <use style=\"fill:#e41a1c;\" x=\"379.263662\" xlink:href=\"#C0_0_63fe725974\" y=\"185.556753\"/>\r\n    </g>\r\n    <g clip-path=\"url(#p79424c348e)\">\r\n     <use style=\"fill:#4daf4a;\" x=\"243.748792\" xlink:href=\"#C0_0_63fe725974\" y=\"200.613961\"/>\r\n    </g>\r\n    <g clip-path=\"url(#p79424c348e)\">\r\n     <use style=\"fill:#ff7f00;\" x=\"469.606909\" xlink:href=\"#C0_0_63fe725974\" y=\"366.243247\"/>\r\n    </g>\r\n    <g clip-path=\"url(#p79424c348e)\">\r\n     <use style=\"fill:#a65628;\" x=\"138.348338\" xlink:href=\"#C0_0_63fe725974\" y=\"366.243247\"/>\r\n    </g>\r\n    <g clip-path=\"url(#p79424c348e)\">\r\n     <use style=\"fill:#999999;\" x=\"48.005091\" xlink:href=\"#C0_0_63fe725974\" y=\"200.613961\"/>\r\n    </g>\r\n   </g>\r\n   <g id=\"matplotlib.axis_1\">\r\n    <g id=\"xtick_1\">\r\n     <g id=\"line2d_1\">\r\n      <defs>\r\n       <path d=\"M 0 0 \r\nL 0 3.5 \r\n\" id=\"m8949e155c6\" style=\"stroke:#000000;stroke-width:0.8;\"/>\r\n      </defs>\r\n      <g>\r\n       <use style=\"stroke:#000000;stroke-width:0.8;\" x=\"48.005091\" xlink:href=\"#m8949e155c6\" y=\"544.6\"/>\r\n      </g>\r\n     </g>\r\n     <g id=\"text_1\">\r\n      <!-- 10 -->\r\n      <defs>\r\n       <path d=\"M 12.40625 8.296875 \r\nL 28.515625 8.296875 \r\nL 28.515625 63.921875 \r\nL 10.984375 60.40625 \r\nL 10.984375 69.390625 \r\nL 28.421875 72.90625 \r\nL 38.28125 72.90625 \r\nL 38.28125 8.296875 \r\nL 54.390625 8.296875 \r\nL 54.390625 0 \r\nL 12.40625 0 \r\nz\r\n\" id=\"DejaVuSans-49\"/>\r\n       <path d=\"M 31.78125 66.40625 \r\nQ 24.171875 66.40625 20.328125 58.90625 \r\nQ 16.5 51.421875 16.5 36.375 \r\nQ 16.5 21.390625 20.328125 13.890625 \r\nQ 24.171875 6.390625 31.78125 6.390625 \r\nQ 39.453125 6.390625 43.28125 13.890625 \r\nQ 47.125 21.390625 47.125 36.375 \r\nQ 47.125 51.421875 43.28125 58.90625 \r\nQ 39.453125 66.40625 31.78125 66.40625 \r\nz\r\nM 31.78125 74.21875 \r\nQ 44.046875 74.21875 50.515625 64.515625 \r\nQ 56.984375 54.828125 56.984375 36.375 \r\nQ 56.984375 17.96875 50.515625 8.265625 \r\nQ 44.046875 -1.421875 31.78125 -1.421875 \r\nQ 19.53125 -1.421875 13.0625 8.265625 \r\nQ 6.59375 17.96875 6.59375 36.375 \r\nQ 6.59375 54.828125 13.0625 64.515625 \r\nQ 19.53125 74.21875 31.78125 74.21875 \r\nz\r\n\" id=\"DejaVuSans-48\"/>\r\n      </defs>\r\n      <g transform=\"translate(41.642591 559.198437)scale(0.1 -0.1)\">\r\n       <use xlink:href=\"#DejaVuSans-49\"/>\r\n       <use x=\"63.623047\" xlink:href=\"#DejaVuSans-48\"/>\r\n      </g>\r\n     </g>\r\n    </g>\r\n    <g id=\"xtick_2\">\r\n     <g id=\"line2d_2\">\r\n      <g>\r\n       <use style=\"stroke:#000000;stroke-width:0.8;\" x=\"123.29113\" xlink:href=\"#m8949e155c6\" y=\"544.6\"/>\r\n      </g>\r\n     </g>\r\n     <g id=\"text_2\">\r\n      <!-- 15 -->\r\n      <defs>\r\n       <path d=\"M 10.796875 72.90625 \r\nL 49.515625 72.90625 \r\nL 49.515625 64.59375 \r\nL 19.828125 64.59375 \r\nL 19.828125 46.734375 \r\nQ 21.96875 47.46875 24.109375 47.828125 \r\nQ 26.265625 48.1875 28.421875 48.1875 \r\nQ 40.625 48.1875 47.75 41.5 \r\nQ 54.890625 34.8125 54.890625 23.390625 \r\nQ 54.890625 11.625 47.5625 5.09375 \r\nQ 40.234375 -1.421875 26.90625 -1.421875 \r\nQ 22.3125 -1.421875 17.546875 -0.640625 \r\nQ 12.796875 0.140625 7.71875 1.703125 \r\nL 7.71875 11.625 \r\nQ 12.109375 9.234375 16.796875 8.0625 \r\nQ 21.484375 6.890625 26.703125 6.890625 \r\nQ 35.15625 6.890625 40.078125 11.328125 \r\nQ 45.015625 15.765625 45.015625 23.390625 \r\nQ 45.015625 31 40.078125 35.4375 \r\nQ 35.15625 39.890625 26.703125 39.890625 \r\nQ 22.75 39.890625 18.8125 39.015625 \r\nQ 14.890625 38.140625 10.796875 36.28125 \r\nz\r\n\" id=\"DejaVuSans-53\"/>\r\n      </defs>\r\n      <g transform=\"translate(116.92863 559.198437)scale(0.1 -0.1)\">\r\n       <use xlink:href=\"#DejaVuSans-49\"/>\r\n       <use x=\"63.623047\" xlink:href=\"#DejaVuSans-53\"/>\r\n      </g>\r\n     </g>\r\n    </g>\r\n    <g id=\"xtick_3\">\r\n     <g id=\"line2d_3\">\r\n      <g>\r\n       <use style=\"stroke:#000000;stroke-width:0.8;\" x=\"198.577169\" xlink:href=\"#m8949e155c6\" y=\"544.6\"/>\r\n      </g>\r\n     </g>\r\n     <g id=\"text_3\">\r\n      <!-- 20 -->\r\n      <defs>\r\n       <path d=\"M 19.1875 8.296875 \r\nL 53.609375 8.296875 \r\nL 53.609375 0 \r\nL 7.328125 0 \r\nL 7.328125 8.296875 \r\nQ 12.9375 14.109375 22.625 23.890625 \r\nQ 32.328125 33.6875 34.8125 36.53125 \r\nQ 39.546875 41.84375 41.421875 45.53125 \r\nQ 43.3125 49.21875 43.3125 52.78125 \r\nQ 43.3125 58.59375 39.234375 62.25 \r\nQ 35.15625 65.921875 28.609375 65.921875 \r\nQ 23.96875 65.921875 18.8125 64.3125 \r\nQ 13.671875 62.703125 7.8125 59.421875 \r\nL 7.8125 69.390625 \r\nQ 13.765625 71.78125 18.9375 73 \r\nQ 24.125 74.21875 28.421875 74.21875 \r\nQ 39.75 74.21875 46.484375 68.546875 \r\nQ 53.21875 62.890625 53.21875 53.421875 \r\nQ 53.21875 48.921875 51.53125 44.890625 \r\nQ 49.859375 40.875 45.40625 35.40625 \r\nQ 44.1875 33.984375 37.640625 27.21875 \r\nQ 31.109375 20.453125 19.1875 8.296875 \r\nz\r\n\" id=\"DejaVuSans-50\"/>\r\n      </defs>\r\n      <g transform=\"translate(192.214669 559.198437)scale(0.1 -0.1)\">\r\n       <use xlink:href=\"#DejaVuSans-50\"/>\r\n       <use x=\"63.623047\" xlink:href=\"#DejaVuSans-48\"/>\r\n      </g>\r\n     </g>\r\n    </g>\r\n    <g id=\"xtick_4\">\r\n     <g id=\"line2d_4\">\r\n      <g>\r\n       <use style=\"stroke:#000000;stroke-width:0.8;\" x=\"273.863208\" xlink:href=\"#m8949e155c6\" y=\"544.6\"/>\r\n      </g>\r\n     </g>\r\n     <g id=\"text_4\">\r\n      <!-- 25 -->\r\n      <g transform=\"translate(267.500708 559.198437)scale(0.1 -0.1)\">\r\n       <use xlink:href=\"#DejaVuSans-50\"/>\r\n       <use x=\"63.623047\" xlink:href=\"#DejaVuSans-53\"/>\r\n      </g>\r\n     </g>\r\n    </g>\r\n    <g id=\"xtick_5\">\r\n     <g id=\"line2d_5\">\r\n      <g>\r\n       <use style=\"stroke:#000000;stroke-width:0.8;\" x=\"349.149247\" xlink:href=\"#m8949e155c6\" y=\"544.6\"/>\r\n      </g>\r\n     </g>\r\n     <g id=\"text_5\">\r\n      <!-- 30 -->\r\n      <defs>\r\n       <path d=\"M 40.578125 39.3125 \r\nQ 47.65625 37.796875 51.625 33 \r\nQ 55.609375 28.21875 55.609375 21.1875 \r\nQ 55.609375 10.40625 48.1875 4.484375 \r\nQ 40.765625 -1.421875 27.09375 -1.421875 \r\nQ 22.515625 -1.421875 17.65625 -0.515625 \r\nQ 12.796875 0.390625 7.625 2.203125 \r\nL 7.625 11.71875 \r\nQ 11.71875 9.328125 16.59375 8.109375 \r\nQ 21.484375 6.890625 26.8125 6.890625 \r\nQ 36.078125 6.890625 40.9375 10.546875 \r\nQ 45.796875 14.203125 45.796875 21.1875 \r\nQ 45.796875 27.640625 41.28125 31.265625 \r\nQ 36.765625 34.90625 28.71875 34.90625 \r\nL 20.21875 34.90625 \r\nL 20.21875 43.015625 \r\nL 29.109375 43.015625 \r\nQ 36.375 43.015625 40.234375 45.921875 \r\nQ 44.09375 48.828125 44.09375 54.296875 \r\nQ 44.09375 59.90625 40.109375 62.90625 \r\nQ 36.140625 65.921875 28.71875 65.921875 \r\nQ 24.65625 65.921875 20.015625 65.03125 \r\nQ 15.375 64.15625 9.8125 62.3125 \r\nL 9.8125 71.09375 \r\nQ 15.4375 72.65625 20.34375 73.4375 \r\nQ 25.25 74.21875 29.59375 74.21875 \r\nQ 40.828125 74.21875 47.359375 69.109375 \r\nQ 53.90625 64.015625 53.90625 55.328125 \r\nQ 53.90625 49.265625 50.4375 45.09375 \r\nQ 46.96875 40.921875 40.578125 39.3125 \r\nz\r\n\" id=\"DejaVuSans-51\"/>\r\n      </defs>\r\n      <g transform=\"translate(342.786747 559.198437)scale(0.1 -0.1)\">\r\n       <use xlink:href=\"#DejaVuSans-51\"/>\r\n       <use x=\"63.623047\" xlink:href=\"#DejaVuSans-48\"/>\r\n      </g>\r\n     </g>\r\n    </g>\r\n    <g id=\"xtick_6\">\r\n     <g id=\"line2d_6\">\r\n      <g>\r\n       <use style=\"stroke:#000000;stroke-width:0.8;\" x=\"424.435286\" xlink:href=\"#m8949e155c6\" y=\"544.6\"/>\r\n      </g>\r\n     </g>\r\n     <g id=\"text_6\">\r\n      <!-- 35 -->\r\n      <g transform=\"translate(418.072786 559.198437)scale(0.1 -0.1)\">\r\n       <use xlink:href=\"#DejaVuSans-51\"/>\r\n       <use x=\"63.623047\" xlink:href=\"#DejaVuSans-53\"/>\r\n      </g>\r\n     </g>\r\n    </g>\r\n   </g>\r\n   <g id=\"matplotlib.axis_2\">\r\n    <g id=\"ytick_1\">\r\n     <g id=\"line2d_7\">\r\n      <defs>\r\n       <path d=\"M 0 0 \r\nL -3.5 0 \r\n\" id=\"m18b4556b8c\" style=\"stroke:#000000;stroke-width:0.8;\"/>\r\n      </defs>\r\n      <g>\r\n       <use style=\"stroke:#000000;stroke-width:0.8;\" x=\"26.925\" xlink:href=\"#m18b4556b8c\" y=\"531.872532\"/>\r\n      </g>\r\n     </g>\r\n     <g id=\"text_7\">\r\n      <!-- 10 -->\r\n      <g transform=\"translate(7.2 535.671751)scale(0.1 -0.1)\">\r\n       <use xlink:href=\"#DejaVuSans-49\"/>\r\n       <use x=\"63.623047\" xlink:href=\"#DejaVuSans-48\"/>\r\n      </g>\r\n     </g>\r\n    </g>\r\n    <g id=\"ytick_2\">\r\n     <g id=\"line2d_8\">\r\n      <g>\r\n       <use style=\"stroke:#000000;stroke-width:0.8;\" x=\"26.925\" xlink:href=\"#m18b4556b8c\" y=\"456.586494\"/>\r\n      </g>\r\n     </g>\r\n     <g id=\"text_8\">\r\n      <!-- 15 -->\r\n      <g transform=\"translate(7.2 460.385712)scale(0.1 -0.1)\">\r\n       <use xlink:href=\"#DejaVuSans-49\"/>\r\n       <use x=\"63.623047\" xlink:href=\"#DejaVuSans-53\"/>\r\n      </g>\r\n     </g>\r\n    </g>\r\n    <g id=\"ytick_3\">\r\n     <g id=\"line2d_9\">\r\n      <g>\r\n       <use style=\"stroke:#000000;stroke-width:0.8;\" x=\"26.925\" xlink:href=\"#m18b4556b8c\" y=\"381.300455\"/>\r\n      </g>\r\n     </g>\r\n     <g id=\"text_9\">\r\n      <!-- 20 -->\r\n      <g transform=\"translate(7.2 385.099673)scale(0.1 -0.1)\">\r\n       <use xlink:href=\"#DejaVuSans-50\"/>\r\n       <use x=\"63.623047\" xlink:href=\"#DejaVuSans-48\"/>\r\n      </g>\r\n     </g>\r\n    </g>\r\n    <g id=\"ytick_4\">\r\n     <g id=\"line2d_10\">\r\n      <g>\r\n       <use style=\"stroke:#000000;stroke-width:0.8;\" x=\"26.925\" xlink:href=\"#m18b4556b8c\" y=\"306.014416\"/>\r\n      </g>\r\n     </g>\r\n     <g id=\"text_10\">\r\n      <!-- 25 -->\r\n      <g transform=\"translate(7.2 309.813634)scale(0.1 -0.1)\">\r\n       <use xlink:href=\"#DejaVuSans-50\"/>\r\n       <use x=\"63.623047\" xlink:href=\"#DejaVuSans-53\"/>\r\n      </g>\r\n     </g>\r\n    </g>\r\n    <g id=\"ytick_5\">\r\n     <g id=\"line2d_11\">\r\n      <g>\r\n       <use style=\"stroke:#000000;stroke-width:0.8;\" x=\"26.925\" xlink:href=\"#m18b4556b8c\" y=\"230.728377\"/>\r\n      </g>\r\n     </g>\r\n     <g id=\"text_11\">\r\n      <!-- 30 -->\r\n      <g transform=\"translate(7.2 234.527595)scale(0.1 -0.1)\">\r\n       <use xlink:href=\"#DejaVuSans-51\"/>\r\n       <use x=\"63.623047\" xlink:href=\"#DejaVuSans-48\"/>\r\n      </g>\r\n     </g>\r\n    </g>\r\n    <g id=\"ytick_6\">\r\n     <g id=\"line2d_12\">\r\n      <g>\r\n       <use style=\"stroke:#000000;stroke-width:0.8;\" x=\"26.925\" xlink:href=\"#m18b4556b8c\" y=\"155.442338\"/>\r\n      </g>\r\n     </g>\r\n     <g id=\"text_12\">\r\n      <!-- 35 -->\r\n      <g transform=\"translate(7.2 159.241556)scale(0.1 -0.1)\">\r\n       <use xlink:href=\"#DejaVuSans-51\"/>\r\n       <use x=\"63.623047\" xlink:href=\"#DejaVuSans-53\"/>\r\n      </g>\r\n     </g>\r\n    </g>\r\n    <g id=\"ytick_7\">\r\n     <g id=\"line2d_13\">\r\n      <g>\r\n       <use style=\"stroke:#000000;stroke-width:0.8;\" x=\"26.925\" xlink:href=\"#m18b4556b8c\" y=\"80.156299\"/>\r\n      </g>\r\n     </g>\r\n     <g id=\"text_13\">\r\n      <!-- 40 -->\r\n      <defs>\r\n       <path d=\"M 37.796875 64.3125 \r\nL 12.890625 25.390625 \r\nL 37.796875 25.390625 \r\nz\r\nM 35.203125 72.90625 \r\nL 47.609375 72.90625 \r\nL 47.609375 25.390625 \r\nL 58.015625 25.390625 \r\nL 58.015625 17.1875 \r\nL 47.609375 17.1875 \r\nL 47.609375 0 \r\nL 37.796875 0 \r\nL 37.796875 17.1875 \r\nL 4.890625 17.1875 \r\nL 4.890625 26.703125 \r\nz\r\n\" id=\"DejaVuSans-52\"/>\r\n      </defs>\r\n      <g transform=\"translate(7.2 83.955517)scale(0.1 -0.1)\">\r\n       <use xlink:href=\"#DejaVuSans-52\"/>\r\n       <use x=\"63.623047\" xlink:href=\"#DejaVuSans-48\"/>\r\n      </g>\r\n     </g>\r\n    </g>\r\n   </g>\r\n   <g id=\"patch_3\">\r\n    <path d=\"M 26.925 544.6 \r\nL 26.925 7.2 \r\n\" style=\"fill:none;stroke:#000000;stroke-linecap:square;stroke-linejoin:miter;stroke-width:0.8;\"/>\r\n   </g>\r\n   <g id=\"patch_4\">\r\n    <path d=\"M 490.687 544.6 \r\nL 490.687 7.2 \r\n\" style=\"fill:none;stroke:#000000;stroke-linecap:square;stroke-linejoin:miter;stroke-width:0.8;\"/>\r\n   </g>\r\n   <g id=\"patch_5\">\r\n    <path d=\"M 26.925 544.6 \r\nL 490.687 544.6 \r\n\" style=\"fill:none;stroke:#000000;stroke-linecap:square;stroke-linejoin:miter;stroke-width:0.8;\"/>\r\n   </g>\r\n   <g id=\"patch_6\">\r\n    <path d=\"M 26.925 7.2 \r\nL 490.687 7.2 \r\n\" style=\"fill:none;stroke:#000000;stroke-linecap:square;stroke-linejoin:miter;stroke-width:0.8;\"/>\r\n   </g>\r\n   <g id=\"text_14\">\r\n    <g id=\"patch_7\">\r\n     <path d=\"M 50.1131 67.72325 \r\nL 190.517788 67.72325 \r\nQ 194.717788 67.72325 194.717788 63.52325 \r\nL 194.717788 17.948 \r\nQ 194.717788 13.748 190.517788 13.748 \r\nL 50.1131 13.748 \r\nQ 45.9131 13.748 45.9131 17.948 \r\nL 45.9131 63.52325 \r\nQ 45.9131 67.72325 50.1131 67.72325 \r\nz\r\n\" style=\"fill:#f5deb3;opacity:0.5;stroke:#000000;stroke-linejoin:miter;\"/>\r\n    </g>\r\n    <!-- Nombre de villes : 5 -->\r\n    <defs>\r\n     <path d=\"M 9.8125 72.90625 \r\nL 23.09375 72.90625 \r\nL 55.421875 11.921875 \r\nL 55.421875 72.90625 \r\nL 64.984375 72.90625 \r\nL 64.984375 0 \r\nL 51.703125 0 \r\nL 19.390625 60.984375 \r\nL 19.390625 0 \r\nL 9.8125 0 \r\nz\r\n\" id=\"DejaVuSans-78\"/>\r\n     <path d=\"M 30.609375 48.390625 \r\nQ 23.390625 48.390625 19.1875 42.75 \r\nQ 14.984375 37.109375 14.984375 27.296875 \r\nQ 14.984375 17.484375 19.15625 11.84375 \r\nQ 23.34375 6.203125 30.609375 6.203125 \r\nQ 37.796875 6.203125 41.984375 11.859375 \r\nQ 46.1875 17.53125 46.1875 27.296875 \r\nQ 46.1875 37.015625 41.984375 42.703125 \r\nQ 37.796875 48.390625 30.609375 48.390625 \r\nz\r\nM 30.609375 56 \r\nQ 42.328125 56 49.015625 48.375 \r\nQ 55.71875 40.765625 55.71875 27.296875 \r\nQ 55.71875 13.875 49.015625 6.21875 \r\nQ 42.328125 -1.421875 30.609375 -1.421875 \r\nQ 18.84375 -1.421875 12.171875 6.21875 \r\nQ 5.515625 13.875 5.515625 27.296875 \r\nQ 5.515625 40.765625 12.171875 48.375 \r\nQ 18.84375 56 30.609375 56 \r\nz\r\n\" id=\"DejaVuSans-111\"/>\r\n     <path d=\"M 52 44.1875 \r\nQ 55.375 50.25 60.0625 53.125 \r\nQ 64.75 56 71.09375 56 \r\nQ 79.640625 56 84.28125 50.015625 \r\nQ 88.921875 44.046875 88.921875 33.015625 \r\nL 88.921875 0 \r\nL 79.890625 0 \r\nL 79.890625 32.71875 \r\nQ 79.890625 40.578125 77.09375 44.375 \r\nQ 74.3125 48.1875 68.609375 48.1875 \r\nQ 61.625 48.1875 57.5625 43.546875 \r\nQ 53.515625 38.921875 53.515625 30.90625 \r\nL 53.515625 0 \r\nL 44.484375 0 \r\nL 44.484375 32.71875 \r\nQ 44.484375 40.625 41.703125 44.40625 \r\nQ 38.921875 48.1875 33.109375 48.1875 \r\nQ 26.21875 48.1875 22.15625 43.53125 \r\nQ 18.109375 38.875 18.109375 30.90625 \r\nL 18.109375 0 \r\nL 9.078125 0 \r\nL 9.078125 54.6875 \r\nL 18.109375 54.6875 \r\nL 18.109375 46.1875 \r\nQ 21.1875 51.21875 25.484375 53.609375 \r\nQ 29.78125 56 35.6875 56 \r\nQ 41.65625 56 45.828125 52.96875 \r\nQ 50 49.953125 52 44.1875 \r\nz\r\n\" id=\"DejaVuSans-109\"/>\r\n     <path d=\"M 48.6875 27.296875 \r\nQ 48.6875 37.203125 44.609375 42.84375 \r\nQ 40.53125 48.484375 33.40625 48.484375 \r\nQ 26.265625 48.484375 22.1875 42.84375 \r\nQ 18.109375 37.203125 18.109375 27.296875 \r\nQ 18.109375 17.390625 22.1875 11.75 \r\nQ 26.265625 6.109375 33.40625 6.109375 \r\nQ 40.53125 6.109375 44.609375 11.75 \r\nQ 48.6875 17.390625 48.6875 27.296875 \r\nz\r\nM 18.109375 46.390625 \r\nQ 20.953125 51.265625 25.265625 53.625 \r\nQ 29.59375 56 35.59375 56 \r\nQ 45.5625 56 51.78125 48.09375 \r\nQ 58.015625 40.1875 58.015625 27.296875 \r\nQ 58.015625 14.40625 51.78125 6.484375 \r\nQ 45.5625 -1.421875 35.59375 -1.421875 \r\nQ 29.59375 -1.421875 25.265625 0.953125 \r\nQ 20.953125 3.328125 18.109375 8.203125 \r\nL 18.109375 0 \r\nL 9.078125 0 \r\nL 9.078125 75.984375 \r\nL 18.109375 75.984375 \r\nz\r\n\" id=\"DejaVuSans-98\"/>\r\n     <path d=\"M 41.109375 46.296875 \r\nQ 39.59375 47.171875 37.8125 47.578125 \r\nQ 36.03125 48 33.890625 48 \r\nQ 26.265625 48 22.1875 43.046875 \r\nQ 18.109375 38.09375 18.109375 28.8125 \r\nL 18.109375 0 \r\nL 9.078125 0 \r\nL 9.078125 54.6875 \r\nL 18.109375 54.6875 \r\nL 18.109375 46.1875 \r\nQ 20.953125 51.171875 25.484375 53.578125 \r\nQ 30.03125 56 36.53125 56 \r\nQ 37.453125 56 38.578125 55.875 \r\nQ 39.703125 55.765625 41.0625 55.515625 \r\nz\r\n\" id=\"DejaVuSans-114\"/>\r\n     <path d=\"M 56.203125 29.59375 \r\nL 56.203125 25.203125 \r\nL 14.890625 25.203125 \r\nQ 15.484375 15.921875 20.484375 11.0625 \r\nQ 25.484375 6.203125 34.421875 6.203125 \r\nQ 39.59375 6.203125 44.453125 7.46875 \r\nQ 49.3125 8.734375 54.109375 11.28125 \r\nL 54.109375 2.78125 \r\nQ 49.265625 0.734375 44.1875 -0.34375 \r\nQ 39.109375 -1.421875 33.890625 -1.421875 \r\nQ 20.796875 -1.421875 13.15625 6.1875 \r\nQ 5.515625 13.8125 5.515625 26.8125 \r\nQ 5.515625 40.234375 12.765625 48.109375 \r\nQ 20.015625 56 32.328125 56 \r\nQ 43.359375 56 49.78125 48.890625 \r\nQ 56.203125 41.796875 56.203125 29.59375 \r\nz\r\nM 47.21875 32.234375 \r\nQ 47.125 39.59375 43.09375 43.984375 \r\nQ 39.0625 48.390625 32.421875 48.390625 \r\nQ 24.90625 48.390625 20.390625 44.140625 \r\nQ 15.875 39.890625 15.1875 32.171875 \r\nz\r\n\" id=\"DejaVuSans-101\"/>\r\n     <path id=\"DejaVuSans-32\"/>\r\n     <path d=\"M 45.40625 46.390625 \r\nL 45.40625 75.984375 \r\nL 54.390625 75.984375 \r\nL 54.390625 0 \r\nL 45.40625 0 \r\nL 45.40625 8.203125 \r\nQ 42.578125 3.328125 38.25 0.953125 \r\nQ 33.9375 -1.421875 27.875 -1.421875 \r\nQ 17.96875 -1.421875 11.734375 6.484375 \r\nQ 5.515625 14.40625 5.515625 27.296875 \r\nQ 5.515625 40.1875 11.734375 48.09375 \r\nQ 17.96875 56 27.875 56 \r\nQ 33.9375 56 38.25 53.625 \r\nQ 42.578125 51.265625 45.40625 46.390625 \r\nz\r\nM 14.796875 27.296875 \r\nQ 14.796875 17.390625 18.875 11.75 \r\nQ 22.953125 6.109375 30.078125 6.109375 \r\nQ 37.203125 6.109375 41.296875 11.75 \r\nQ 45.40625 17.390625 45.40625 27.296875 \r\nQ 45.40625 37.203125 41.296875 42.84375 \r\nQ 37.203125 48.484375 30.078125 48.484375 \r\nQ 22.953125 48.484375 18.875 42.84375 \r\nQ 14.796875 37.203125 14.796875 27.296875 \r\nz\r\n\" id=\"DejaVuSans-100\"/>\r\n     <path d=\"M 2.984375 54.6875 \r\nL 12.5 54.6875 \r\nL 29.59375 8.796875 \r\nL 46.6875 54.6875 \r\nL 56.203125 54.6875 \r\nL 35.6875 0 \r\nL 23.484375 0 \r\nz\r\n\" id=\"DejaVuSans-118\"/>\r\n     <path d=\"M 9.421875 54.6875 \r\nL 18.40625 54.6875 \r\nL 18.40625 0 \r\nL 9.421875 0 \r\nz\r\nM 9.421875 75.984375 \r\nL 18.40625 75.984375 \r\nL 18.40625 64.59375 \r\nL 9.421875 64.59375 \r\nz\r\n\" id=\"DejaVuSans-105\"/>\r\n     <path d=\"M 9.421875 75.984375 \r\nL 18.40625 75.984375 \r\nL 18.40625 0 \r\nL 9.421875 0 \r\nz\r\n\" id=\"DejaVuSans-108\"/>\r\n     <path d=\"M 44.28125 53.078125 \r\nL 44.28125 44.578125 \r\nQ 40.484375 46.53125 36.375 47.5 \r\nQ 32.28125 48.484375 27.875 48.484375 \r\nQ 21.1875 48.484375 17.84375 46.4375 \r\nQ 14.5 44.390625 14.5 40.28125 \r\nQ 14.5 37.15625 16.890625 35.375 \r\nQ 19.28125 33.59375 26.515625 31.984375 \r\nL 29.59375 31.296875 \r\nQ 39.15625 29.25 43.1875 25.515625 \r\nQ 47.21875 21.78125 47.21875 15.09375 \r\nQ 47.21875 7.46875 41.1875 3.015625 \r\nQ 35.15625 -1.421875 24.609375 -1.421875 \r\nQ 20.21875 -1.421875 15.453125 -0.5625 \r\nQ 10.6875 0.296875 5.421875 2 \r\nL 5.421875 11.28125 \r\nQ 10.40625 8.6875 15.234375 7.390625 \r\nQ 20.0625 6.109375 24.8125 6.109375 \r\nQ 31.15625 6.109375 34.5625 8.28125 \r\nQ 37.984375 10.453125 37.984375 14.40625 \r\nQ 37.984375 18.0625 35.515625 20.015625 \r\nQ 33.0625 21.96875 24.703125 23.78125 \r\nL 21.578125 24.515625 \r\nQ 13.234375 26.265625 9.515625 29.90625 \r\nQ 5.8125 33.546875 5.8125 39.890625 \r\nQ 5.8125 47.609375 11.28125 51.796875 \r\nQ 16.75 56 26.8125 56 \r\nQ 31.78125 56 36.171875 55.265625 \r\nQ 40.578125 54.546875 44.28125 53.078125 \r\nz\r\n\" id=\"DejaVuSans-115\"/>\r\n     <path d=\"M 11.71875 12.40625 \r\nL 22.015625 12.40625 \r\nL 22.015625 0 \r\nL 11.71875 0 \r\nz\r\nM 11.71875 51.703125 \r\nL 22.015625 51.703125 \r\nL 22.015625 39.3125 \r\nL 11.71875 39.3125 \r\nz\r\n\" id=\"DejaVuSans-58\"/>\r\n    </defs>\r\n    <g transform=\"translate(50.1131 28.585812)scale(0.14 -0.14)\">\r\n     <use xlink:href=\"#DejaVuSans-78\"/>\r\n     <use x=\"74.804688\" xlink:href=\"#DejaVuSans-111\"/>\r\n     <use x=\"135.986328\" xlink:href=\"#DejaVuSans-109\"/>\r\n     <use x=\"233.398438\" xlink:href=\"#DejaVuSans-98\"/>\r\n     <use x=\"296.875\" xlink:href=\"#DejaVuSans-114\"/>\r\n     <use x=\"335.738281\" xlink:href=\"#DejaVuSans-101\"/>\r\n     <use x=\"397.261719\" xlink:href=\"#DejaVuSans-32\"/>\r\n     <use x=\"429.048828\" xlink:href=\"#DejaVuSans-100\"/>\r\n     <use x=\"492.525391\" xlink:href=\"#DejaVuSans-101\"/>\r\n     <use x=\"554.048828\" xlink:href=\"#DejaVuSans-32\"/>\r\n     <use x=\"585.835938\" xlink:href=\"#DejaVuSans-118\"/>\r\n     <use x=\"645.015625\" xlink:href=\"#DejaVuSans-105\"/>\r\n     <use x=\"672.798828\" xlink:href=\"#DejaVuSans-108\"/>\r\n     <use x=\"700.582031\" xlink:href=\"#DejaVuSans-108\"/>\r\n     <use x=\"728.365234\" xlink:href=\"#DejaVuSans-101\"/>\r\n     <use x=\"789.888672\" xlink:href=\"#DejaVuSans-115\"/>\r\n     <use x=\"841.988281\" xlink:href=\"#DejaVuSans-32\"/>\r\n     <use x=\"873.775391\" xlink:href=\"#DejaVuSans-58\"/>\r\n     <use x=\"907.466797\" xlink:href=\"#DejaVuSans-32\"/>\r\n     <use x=\"939.253906\" xlink:href=\"#DejaVuSans-53\"/>\r\n    </g>\r\n    <!-- Distance Min: 32 -->\r\n    <defs>\r\n     <path d=\"M 19.671875 64.796875 \r\nL 19.671875 8.109375 \r\nL 31.59375 8.109375 \r\nQ 46.6875 8.109375 53.6875 14.9375 \r\nQ 60.6875 21.78125 60.6875 36.53125 \r\nQ 60.6875 51.171875 53.6875 57.984375 \r\nQ 46.6875 64.796875 31.59375 64.796875 \r\nz\r\nM 9.8125 72.90625 \r\nL 30.078125 72.90625 \r\nQ 51.265625 72.90625 61.171875 64.09375 \r\nQ 71.09375 55.28125 71.09375 36.53125 \r\nQ 71.09375 17.671875 61.125 8.828125 \r\nQ 51.171875 0 30.078125 0 \r\nL 9.8125 0 \r\nz\r\n\" id=\"DejaVuSans-68\"/>\r\n     <path d=\"M 18.3125 70.21875 \r\nL 18.3125 54.6875 \r\nL 36.8125 54.6875 \r\nL 36.8125 47.703125 \r\nL 18.3125 47.703125 \r\nL 18.3125 18.015625 \r\nQ 18.3125 11.328125 20.140625 9.421875 \r\nQ 21.96875 7.515625 27.59375 7.515625 \r\nL 36.8125 7.515625 \r\nL 36.8125 0 \r\nL 27.59375 0 \r\nQ 17.1875 0 13.234375 3.875 \r\nQ 9.28125 7.765625 9.28125 18.015625 \r\nL 9.28125 47.703125 \r\nL 2.6875 47.703125 \r\nL 2.6875 54.6875 \r\nL 9.28125 54.6875 \r\nL 9.28125 70.21875 \r\nz\r\n\" id=\"DejaVuSans-116\"/>\r\n     <path d=\"M 34.28125 27.484375 \r\nQ 23.390625 27.484375 19.1875 25 \r\nQ 14.984375 22.515625 14.984375 16.5 \r\nQ 14.984375 11.71875 18.140625 8.90625 \r\nQ 21.296875 6.109375 26.703125 6.109375 \r\nQ 34.1875 6.109375 38.703125 11.40625 \r\nQ 43.21875 16.703125 43.21875 25.484375 \r\nL 43.21875 27.484375 \r\nz\r\nM 52.203125 31.203125 \r\nL 52.203125 0 \r\nL 43.21875 0 \r\nL 43.21875 8.296875 \r\nQ 40.140625 3.328125 35.546875 0.953125 \r\nQ 30.953125 -1.421875 24.3125 -1.421875 \r\nQ 15.921875 -1.421875 10.953125 3.296875 \r\nQ 6 8.015625 6 15.921875 \r\nQ 6 25.140625 12.171875 29.828125 \r\nQ 18.359375 34.515625 30.609375 34.515625 \r\nL 43.21875 34.515625 \r\nL 43.21875 35.40625 \r\nQ 43.21875 41.609375 39.140625 45 \r\nQ 35.0625 48.390625 27.6875 48.390625 \r\nQ 23 48.390625 18.546875 47.265625 \r\nQ 14.109375 46.140625 10.015625 43.890625 \r\nL 10.015625 52.203125 \r\nQ 14.9375 54.109375 19.578125 55.046875 \r\nQ 24.21875 56 28.609375 56 \r\nQ 40.484375 56 46.34375 49.84375 \r\nQ 52.203125 43.703125 52.203125 31.203125 \r\nz\r\n\" id=\"DejaVuSans-97\"/>\r\n     <path d=\"M 54.890625 33.015625 \r\nL 54.890625 0 \r\nL 45.90625 0 \r\nL 45.90625 32.71875 \r\nQ 45.90625 40.484375 42.875 44.328125 \r\nQ 39.84375 48.1875 33.796875 48.1875 \r\nQ 26.515625 48.1875 22.3125 43.546875 \r\nQ 18.109375 38.921875 18.109375 30.90625 \r\nL 18.109375 0 \r\nL 9.078125 0 \r\nL 9.078125 54.6875 \r\nL 18.109375 54.6875 \r\nL 18.109375 46.1875 \r\nQ 21.34375 51.125 25.703125 53.5625 \r\nQ 30.078125 56 35.796875 56 \r\nQ 45.21875 56 50.046875 50.171875 \r\nQ 54.890625 44.34375 54.890625 33.015625 \r\nz\r\n\" id=\"DejaVuSans-110\"/>\r\n     <path d=\"M 48.78125 52.59375 \r\nL 48.78125 44.1875 \r\nQ 44.96875 46.296875 41.140625 47.34375 \r\nQ 37.3125 48.390625 33.40625 48.390625 \r\nQ 24.65625 48.390625 19.8125 42.84375 \r\nQ 14.984375 37.3125 14.984375 27.296875 \r\nQ 14.984375 17.28125 19.8125 11.734375 \r\nQ 24.65625 6.203125 33.40625 6.203125 \r\nQ 37.3125 6.203125 41.140625 7.25 \r\nQ 44.96875 8.296875 48.78125 10.40625 \r\nL 48.78125 2.09375 \r\nQ 45.015625 0.34375 40.984375 -0.53125 \r\nQ 36.96875 -1.421875 32.421875 -1.421875 \r\nQ 20.0625 -1.421875 12.78125 6.34375 \r\nQ 5.515625 14.109375 5.515625 27.296875 \r\nQ 5.515625 40.671875 12.859375 48.328125 \r\nQ 20.21875 56 33.015625 56 \r\nQ 37.15625 56 41.109375 55.140625 \r\nQ 45.0625 54.296875 48.78125 52.59375 \r\nz\r\n\" id=\"DejaVuSans-99\"/>\r\n     <path d=\"M 9.8125 72.90625 \r\nL 24.515625 72.90625 \r\nL 43.109375 23.296875 \r\nL 61.8125 72.90625 \r\nL 76.515625 72.90625 \r\nL 76.515625 0 \r\nL 66.890625 0 \r\nL 66.890625 64.015625 \r\nL 48.09375 14.015625 \r\nL 38.1875 14.015625 \r\nL 19.390625 64.015625 \r\nL 19.390625 0 \r\nL 9.8125 0 \r\nz\r\n\" id=\"DejaVuSans-77\"/>\r\n    </defs>\r\n    <g transform=\"translate(50.1131 44.26275)scale(0.14 -0.14)\">\r\n     <use xlink:href=\"#DejaVuSans-68\"/>\r\n     <use x=\"77.001953\" xlink:href=\"#DejaVuSans-105\"/>\r\n     <use x=\"104.785156\" xlink:href=\"#DejaVuSans-115\"/>\r\n     <use x=\"156.884766\" xlink:href=\"#DejaVuSans-116\"/>\r\n     <use x=\"196.09375\" xlink:href=\"#DejaVuSans-97\"/>\r\n     <use x=\"257.373047\" xlink:href=\"#DejaVuSans-110\"/>\r\n     <use x=\"320.751953\" xlink:href=\"#DejaVuSans-99\"/>\r\n     <use x=\"375.732422\" xlink:href=\"#DejaVuSans-101\"/>\r\n     <use x=\"437.255859\" xlink:href=\"#DejaVuSans-32\"/>\r\n     <use x=\"469.042969\" xlink:href=\"#DejaVuSans-77\"/>\r\n     <use x=\"555.322266\" xlink:href=\"#DejaVuSans-105\"/>\r\n     <use x=\"583.105469\" xlink:href=\"#DejaVuSans-110\"/>\r\n     <use x=\"646.484375\" xlink:href=\"#DejaVuSans-58\"/>\r\n     <use x=\"680.175781\" xlink:href=\"#DejaVuSans-32\"/>\r\n     <use x=\"711.962891\" xlink:href=\"#DejaVuSans-51\"/>\r\n     <use x=\"775.585938\" xlink:href=\"#DejaVuSans-50\"/>\r\n    </g>\r\n    <!-- Ville de départ: 3 -->\r\n    <defs>\r\n     <path d=\"M 28.609375 0 \r\nL 0.78125 72.90625 \r\nL 11.078125 72.90625 \r\nL 34.1875 11.53125 \r\nL 57.328125 72.90625 \r\nL 67.578125 72.90625 \r\nL 39.796875 0 \r\nz\r\n\" id=\"DejaVuSans-86\"/>\r\n     <path d=\"M 56.203125 29.59375 \r\nL 56.203125 25.203125 \r\nL 14.890625 25.203125 \r\nQ 15.484375 15.921875 20.484375 11.0625 \r\nQ 25.484375 6.203125 34.421875 6.203125 \r\nQ 39.59375 6.203125 44.453125 7.46875 \r\nQ 49.3125 8.734375 54.109375 11.28125 \r\nL 54.109375 2.78125 \r\nQ 49.265625 0.734375 44.1875 -0.34375 \r\nQ 39.109375 -1.421875 33.890625 -1.421875 \r\nQ 20.796875 -1.421875 13.15625 6.1875 \r\nQ 5.515625 13.8125 5.515625 26.8125 \r\nQ 5.515625 40.234375 12.765625 48.109375 \r\nQ 20.015625 56 32.328125 56 \r\nQ 43.359375 56 49.78125 48.890625 \r\nQ 56.203125 41.796875 56.203125 29.59375 \r\nz\r\nM 47.21875 32.234375 \r\nQ 47.125 39.59375 43.09375 43.984375 \r\nQ 39.0625 48.390625 32.421875 48.390625 \r\nQ 24.90625 48.390625 20.390625 44.140625 \r\nQ 15.875 39.890625 15.1875 32.171875 \r\nz\r\nM 38.578125 79.984375 \r\nL 48.296875 79.984375 \r\nL 32.375 61.625 \r\nL 24.90625 61.625 \r\nz\r\n\" id=\"DejaVuSans-233\"/>\r\n     <path d=\"M 18.109375 8.203125 \r\nL 18.109375 -20.796875 \r\nL 9.078125 -20.796875 \r\nL 9.078125 54.6875 \r\nL 18.109375 54.6875 \r\nL 18.109375 46.390625 \r\nQ 20.953125 51.265625 25.265625 53.625 \r\nQ 29.59375 56 35.59375 56 \r\nQ 45.5625 56 51.78125 48.09375 \r\nQ 58.015625 40.1875 58.015625 27.296875 \r\nQ 58.015625 14.40625 51.78125 6.484375 \r\nQ 45.5625 -1.421875 35.59375 -1.421875 \r\nQ 29.59375 -1.421875 25.265625 0.953125 \r\nQ 20.953125 3.328125 18.109375 8.203125 \r\nz\r\nM 48.6875 27.296875 \r\nQ 48.6875 37.203125 44.609375 42.84375 \r\nQ 40.53125 48.484375 33.40625 48.484375 \r\nQ 26.265625 48.484375 22.1875 42.84375 \r\nQ 18.109375 37.203125 18.109375 27.296875 \r\nQ 18.109375 17.390625 22.1875 11.75 \r\nQ 26.265625 6.109375 33.40625 6.109375 \r\nQ 40.53125 6.109375 44.609375 11.75 \r\nQ 48.6875 17.390625 48.6875 27.296875 \r\nz\r\n\" id=\"DejaVuSans-112\"/>\r\n    </defs>\r\n    <g transform=\"translate(50.1131 60.611688)scale(0.14 -0.14)\">\r\n     <use xlink:href=\"#DejaVuSans-86\"/>\r\n     <use x=\"66.158203\" xlink:href=\"#DejaVuSans-105\"/>\r\n     <use x=\"93.941406\" xlink:href=\"#DejaVuSans-108\"/>\r\n     <use x=\"121.724609\" xlink:href=\"#DejaVuSans-108\"/>\r\n     <use x=\"149.507812\" xlink:href=\"#DejaVuSans-101\"/>\r\n     <use x=\"211.03125\" xlink:href=\"#DejaVuSans-32\"/>\r\n     <use x=\"242.818359\" xlink:href=\"#DejaVuSans-100\"/>\r\n     <use x=\"306.294922\" xlink:href=\"#DejaVuSans-101\"/>\r\n     <use x=\"367.818359\" xlink:href=\"#DejaVuSans-32\"/>\r\n     <use x=\"399.605469\" xlink:href=\"#DejaVuSans-100\"/>\r\n     <use x=\"463.082031\" xlink:href=\"#DejaVuSans-233\"/>\r\n     <use x=\"524.605469\" xlink:href=\"#DejaVuSans-112\"/>\r\n     <use x=\"588.082031\" xlink:href=\"#DejaVuSans-97\"/>\r\n     <use x=\"649.361328\" xlink:href=\"#DejaVuSans-114\"/>\r\n     <use x=\"690.474609\" xlink:href=\"#DejaVuSans-116\"/>\r\n     <use x=\"729.683594\" xlink:href=\"#DejaVuSans-58\"/>\r\n     <use x=\"763.375\" xlink:href=\"#DejaVuSans-32\"/>\r\n     <use x=\"795.162109\" xlink:href=\"#DejaVuSans-51\"/>\r\n    </g>\r\n   </g>\r\n   <g id=\"patch_8\">\r\n    <path d=\"M 380.658327 188.346083 \r\nQ 424.435621 275.900671 468.712915 364.455258 \r\n\" style=\"fill:none;stroke:#000000;stroke-linecap:round;\"/>\r\n    <path d=\"M 380.658327 192.818219 \r\nL 380.658327 188.346083 \r\nL 384.236036 191.029365 \r\n\" style=\"fill:none;stroke:#000000;stroke-linecap:round;\"/>\r\n   </g>\r\n   <g id=\"patch_9\">\r\n    <path d=\"M 51.121068 200.472326 \r\nQ 213.635385 193.085311 377.266582 185.64753 \r\n\" style=\"fill:none;stroke:#000000;stroke-linecap:round;\"/>\r\n    <path d=\"M 55.207757 202.288632 \r\nL 51.121068 200.472326 \r\nL 55.026127 198.292758 \r\n\" style=\"fill:none;stroke:#000000;stroke-linecap:round;\"/>\r\n   </g>\r\n   <g id=\"patch_10\">\r\n    <path d=\"M 136.854887 363.505255 \r\nQ 93.17709 283.429292 48.963919 202.371813 \r\n\" style=\"fill:none;stroke:#000000;stroke-linecap:round;\"/>\r\n    <path d=\"M 136.69527 359.035968 \r\nL 136.854887 363.505255 \r\nL 133.183688 360.951377 \r\n\" style=\"fill:none;stroke:#000000;stroke-linecap:round;\"/>\r\n   </g>\r\n   <g id=\"patch_11\">\r\n    <path d=\"M 242.075822 203.242914 \r\nQ 191.049474 283.427176 139.42288 364.55468 \r\n\" style=\"fill:none;stroke:#000000;stroke-linecap:round;\"/>\r\n    <path d=\"M 238.240997 205.543809 \r\nL 242.075822 203.242914 \r\nL 241.615643 207.691311 \r\n\" style=\"fill:none;stroke:#000000;stroke-linecap:round;\"/>\r\n   </g>\r\n   <g id=\"patch_12\">\r\n    <path d=\"M 467.095889 364.401832 \r\nQ 356.67896 283.429417 245.360443 201.795838 \r\n\" style=\"fill:none;stroke:#000000;stroke-linecap:round;\"/>\r\n    <path d=\"M 465.052996 360.423567 \r\nL 467.095889 364.401832 \r\nL 462.687542 363.649187 \r\n\" style=\"fill:none;stroke:#000000;stroke-linecap:round;\"/>\r\n   </g>\r\n   <g id=\"legend_1\">\r\n    <g id=\"patch_13\">\r\n     <path d=\"M 524.16404 357.290625 \r\nL 562.52654 357.290625 \r\nQ 564.52654 357.290625 564.52654 355.290625 \r\nL 564.52654 282.9 \r\nQ 564.52654 280.9 562.52654 280.9 \r\nL 524.16404 280.9 \r\nQ 522.16404 280.9 522.16404 282.9 \r\nL 522.16404 355.290625 \r\nQ 522.16404 357.290625 524.16404 357.290625 \r\nz\r\n\" style=\"fill:#ffffff;opacity:0.8;stroke:#cccccc;stroke-linejoin:miter;\"/>\r\n    </g>\r\n    <g id=\"line2d_14\"/>\r\n    <g id=\"line2d_15\">\r\n     <defs>\r\n      <path d=\"M 0 5 \r\nC 1.326016 5 2.597899 4.473168 3.535534 3.535534 \r\nC 4.473168 2.597899 5 1.326016 5 0 \r\nC 5 -1.326016 4.473168 -2.597899 3.535534 -3.535534 \r\nC 2.597899 -4.473168 1.326016 -5 0 -5 \r\nC -1.326016 -5 -2.597899 -4.473168 -3.535534 -3.535534 \r\nC -4.473168 -2.597899 -5 -1.326016 -5 0 \r\nC -5 1.326016 -4.473168 2.597899 -3.535534 3.535534 \r\nC -2.597899 4.473168 -1.326016 5 0 5 \r\nz\r\n\" id=\"ma73d62d15b\" style=\"stroke:#000000;stroke-opacity:0;\"/>\r\n     </defs>\r\n     <g>\r\n      <use style=\"fill:#e41a1c;stroke:#000000;stroke-opacity:0;\" x=\"536.16404\" xlink:href=\"#ma73d62d15b\" y=\"288.998437\"/>\r\n     </g>\r\n    </g>\r\n    <g id=\"text_15\">\r\n     <!-- 1 -->\r\n     <g transform=\"translate(554.16404 292.498437)scale(0.1 -0.1)\">\r\n      <use xlink:href=\"#DejaVuSans-49\"/>\r\n     </g>\r\n    </g>\r\n    <g id=\"line2d_16\"/>\r\n    <g id=\"line2d_17\">\r\n     <defs>\r\n      <path d=\"M 0 5 \r\nC 1.326016 5 2.597899 4.473168 3.535534 3.535534 \r\nC 4.473168 2.597899 5 1.326016 5 0 \r\nC 5 -1.326016 4.473168 -2.597899 3.535534 -3.535534 \r\nC 2.597899 -4.473168 1.326016 -5 0 -5 \r\nC -1.326016 -5 -2.597899 -4.473168 -3.535534 -3.535534 \r\nC -4.473168 -2.597899 -5 -1.326016 -5 0 \r\nC -5 1.326016 -4.473168 2.597899 -3.535534 3.535534 \r\nC -2.597899 4.473168 -1.326016 5 0 5 \r\nz\r\n\" id=\"mc07a558a85\" style=\"stroke:#000000;stroke-opacity:0;\"/>\r\n     </defs>\r\n     <g>\r\n      <use style=\"fill:#4daf4a;stroke:#000000;stroke-opacity:0;\" x=\"536.16404\" xlink:href=\"#mc07a558a85\" y=\"303.676562\"/>\r\n     </g>\r\n    </g>\r\n    <g id=\"text_16\">\r\n     <!-- 2 -->\r\n     <g transform=\"translate(554.16404 307.176562)scale(0.1 -0.1)\">\r\n      <use xlink:href=\"#DejaVuSans-50\"/>\r\n     </g>\r\n    </g>\r\n    <g id=\"line2d_18\"/>\r\n    <g id=\"line2d_19\">\r\n     <defs>\r\n      <path d=\"M 0 5 \r\nC 1.326016 5 2.597899 4.473168 3.535534 3.535534 \r\nC 4.473168 2.597899 5 1.326016 5 0 \r\nC 5 -1.326016 4.473168 -2.597899 3.535534 -3.535534 \r\nC 2.597899 -4.473168 1.326016 -5 0 -5 \r\nC -1.326016 -5 -2.597899 -4.473168 -3.535534 -3.535534 \r\nC -4.473168 -2.597899 -5 -1.326016 -5 0 \r\nC -5 1.326016 -4.473168 2.597899 -3.535534 3.535534 \r\nC -2.597899 4.473168 -1.326016 5 0 5 \r\nz\r\n\" id=\"m13103e92ad\" style=\"stroke:#000000;stroke-opacity:0;\"/>\r\n     </defs>\r\n     <g>\r\n      <use style=\"fill:#ff7f00;stroke:#000000;stroke-opacity:0;\" x=\"536.16404\" xlink:href=\"#m13103e92ad\" y=\"318.354687\"/>\r\n     </g>\r\n    </g>\r\n    <g id=\"text_17\">\r\n     <!-- 3 -->\r\n     <g transform=\"translate(554.16404 321.854687)scale(0.1 -0.1)\">\r\n      <use xlink:href=\"#DejaVuSans-51\"/>\r\n     </g>\r\n    </g>\r\n    <g id=\"line2d_20\"/>\r\n    <g id=\"line2d_21\">\r\n     <defs>\r\n      <path d=\"M 0 5 \r\nC 1.326016 5 2.597899 4.473168 3.535534 3.535534 \r\nC 4.473168 2.597899 5 1.326016 5 0 \r\nC 5 -1.326016 4.473168 -2.597899 3.535534 -3.535534 \r\nC 2.597899 -4.473168 1.326016 -5 0 -5 \r\nC -1.326016 -5 -2.597899 -4.473168 -3.535534 -3.535534 \r\nC -4.473168 -2.597899 -5 -1.326016 -5 0 \r\nC -5 1.326016 -4.473168 2.597899 -3.535534 3.535534 \r\nC -2.597899 4.473168 -1.326016 5 0 5 \r\nz\r\n\" id=\"mb4c6298eda\" style=\"stroke:#000000;stroke-opacity:0;\"/>\r\n     </defs>\r\n     <g>\r\n      <use style=\"fill:#a65628;stroke:#000000;stroke-opacity:0;\" x=\"536.16404\" xlink:href=\"#mb4c6298eda\" y=\"333.032812\"/>\r\n     </g>\r\n    </g>\r\n    <g id=\"text_18\">\r\n     <!-- 4 -->\r\n     <g transform=\"translate(554.16404 336.532812)scale(0.1 -0.1)\">\r\n      <use xlink:href=\"#DejaVuSans-52\"/>\r\n     </g>\r\n    </g>\r\n    <g id=\"line2d_22\"/>\r\n    <g id=\"line2d_23\">\r\n     <defs>\r\n      <path d=\"M 0 5 \r\nC 1.326016 5 2.597899 4.473168 3.535534 3.535534 \r\nC 4.473168 2.597899 5 1.326016 5 0 \r\nC 5 -1.326016 4.473168 -2.597899 3.535534 -3.535534 \r\nC 2.597899 -4.473168 1.326016 -5 0 -5 \r\nC -1.326016 -5 -2.597899 -4.473168 -3.535534 -3.535534 \r\nC -4.473168 -2.597899 -5 -1.326016 -5 0 \r\nC -5 1.326016 -4.473168 2.597899 -3.535534 3.535534 \r\nC -2.597899 4.473168 -1.326016 5 0 5 \r\nz\r\n\" id=\"m2796827428\" style=\"stroke:#000000;stroke-opacity:0;\"/>\r\n     </defs>\r\n     <g>\r\n      <use style=\"fill:#999999;stroke:#000000;stroke-opacity:0;\" x=\"536.16404\" xlink:href=\"#m2796827428\" y=\"347.710937\"/>\r\n     </g>\r\n    </g>\r\n    <g id=\"text_19\">\r\n     <!-- 5 -->\r\n     <g transform=\"translate(554.16404 351.210937)scale(0.1 -0.1)\">\r\n      <use xlink:href=\"#DejaVuSans-53\"/>\r\n     </g>\r\n    </g>\r\n   </g>\r\n  </g>\r\n </g>\r\n <defs>\r\n  <clipPath id=\"p79424c348e\">\r\n   <rect height=\"537.4\" width=\"463.762\" x=\"26.925\" y=\"7.2\"/>\r\n  </clipPath>\r\n </defs>\r\n</svg>\r\n",
      "image/png": "[encoded data removed]"
     },
     "metadata": {
      "needs_background": "light"
     }
    }
   ],
   "source": [
    "import os\n",
    "global instance\n",
    "\n",
    "# Matrix reading\n",
    "while True:\n",
    "    path=input(\"Put here a (.txt) instance path :\\n\")\n",
    "    read_data(path)\n",
    "    if isinstance(instance,List):\n",
    "        break\n",
    "\n",
    "# Initial program with getting user choice\n",
    "print(\"\\nTSP solver\\n\")\n",
    "print(\" Menu \".center(20, '*'))\n",
    "print(\"Please choose one of these methods :\")\n",
    "print(\"(1) Solve with dynamic programming \\n(2) Solve with GVNS\")\n",
    "\n",
    "# DP or GVNS logic according to user choice\n",
    "while True:\n",
    "    choice=int(input(\"Your choice: \"))\n",
    "    \n",
    "    if(choice==1):\n",
    "        first_city = int(input(\"First city : \"))\n",
    "        os.system(\"cls\")\n",
    "        solution, dist_min=solve_tsp_dynamic_programming(first_city)\n",
    "        break\n",
    "    elif(choice==2):\n",
    "        first_city = int(input(\"First city : \"))\n",
    "        os.system(\"cls\")\n",
    "        x = initialization((first_city-1))\n",
    "        temps = int(input(\"Time in minutes: \")) #minute\n",
    "        solution,dist_min=GVNS(x,temps)\n",
    "        for i in range(0,len(solution)) :\n",
    "            solution[i]+=1\n",
    "        break\n",
    "    else: continue\n",
    "\n",
    "# Outputs\n",
    "print(\"\\n\\nOPTIMAL POLICY : {}\".format(solution))\n",
    "print(\"OPTIMAL VALUE : {}\".format(dist_min))\n",
    "print(\"\\n\\n\")\n",
    "targetPlot(instance,dist_min,solution)\n"
   ]
  }
 ],
 "metadata": {
  "kernelspec": {
   "display_name": "Python 3",
   "language": "python",
   "name": "python3"
  },
  "language_info": {
   "codemirror_mode": {
    "name": "ipython",
    "version": 3
   },
   "file_extension": ".py",
   "mimetype": "text/x-python",
   "name": "python",
   "nbconvert_exporter": "python",
   "pygments_lexer": "ipython3",
   "version": "3.8.3-final"
  }
 },
 "nbformat": 4,
 "nbformat_minor": 4
}